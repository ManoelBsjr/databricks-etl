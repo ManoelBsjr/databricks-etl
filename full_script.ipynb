{
 "cells": [
  {
   "cell_type": "code",
   "execution_count": null,
   "metadata": {},
   "outputs": [],
   "source": [
    "%run\n",
    "./connect_sql"
   ]
  },
  {
   "cell_type": "code",
   "execution_count": null,
   "metadata": {},
   "outputs": [],
   "source": [
    "import os\n",
    "import base64\n",
    "import requests\n",
    "import json"
   ]
  },
  {
   "cell_type": "code",
   "execution_count": null,
   "metadata": {},
   "outputs": [],
   "source": [
    "# get token\n",
    "client_id = os.getenv('client_id')\n",
    "client_secret = os.getenv('client_secret')\n",
    "    \n",
    "def get_token():\n",
    "    auth_base64 = base64.b64encode(f\"{client_id}:{client_secret}\".encode()).decode()\n",
    "\n",
    "    url = 'https://accounts.spotify.com/api/token'\n",
    "\n",
    "    headers = {\n",
    "        \"Authorization\": \"Basic\" + \" \" + auth_base64,\n",
    "        \"Content-Type\": \"application/x-www-form-urlencoded\"\n",
    "    }\n",
    "\n",
    "    data = {\n",
    "        \"grant_type\" : \"client_credentials\"\n",
    "        }\n",
    "\n",
    "    response = requests.post(url, headers=headers, data=data)\n",
    "    json_response = json.loads(response.content)\n",
    "    token = json_response['access_token']\n",
    "\n",
    "    return token"
   ]
  },
  {
   "cell_type": "code",
   "execution_count": null,
   "metadata": {},
   "outputs": [],
   "source": [
    "# get bearer token\n",
    "def get_bearer_token(token):\n",
    "    return {'Authorization': 'Bearer' + ' ' + token}"
   ]
  },
  {
   "cell_type": "code",
   "execution_count": null,
   "metadata": {},
   "outputs": [],
   "source": [
    "#get artist id by name\n",
    "def get_artist(artist_name):\n",
    "    resp = []\n",
    "    for artist in artist_name:\n",
    "        url = f'https://api.spotify.com/v1/search?q={artist}&type=artist&limit=1'\n",
    "\n",
    "        token = get_token()\n",
    "        headers = get_bearer_token(token)\n",
    "\n",
    "        response = requests.get(url, headers=headers)\n",
    "        api_response = json.loads(response.content)['artists']['items']\n",
    "        # print(api_response[0]['id'], api_response[0]['name'])\n",
    "        resp.append(api_response[0]['id'])\n",
    "    return resp"
   ]
  },
  {
   "cell_type": "code",
   "execution_count": null,
   "metadata": {},
   "outputs": [],
   "source": [
    "# get the data from the \"artist_name\"\n",
    "# for each band name in \"artist_name\", it is get the top 10 tracks for each\n",
    "artist_name = ['acdc', 'angra', 'audioslave', 'foofigthers', 'gorillaz', 'ironmaiden', 'muse', 'redhotchilipeppers', 'oasis', 'theoffspring', 'thesmiths', 'thestrokes', 'u2']\n",
    "get_artist = get_artist(artist_name)\n",
    "\n",
    "lista = []\n",
    "for artist_id in get_artist:\n",
    "    url = f'https://api.spotify.com/v1/artists/{artist_id}/top-tracks?country=US'\n",
    "\n",
    "    token = get_token()\n",
    "    headers = get_bearer_token(token)\n",
    "\n",
    "    response = requests.get(url, headers=headers)\n",
    "    api_response = json.loads(response.content)['tracks']\n",
    "    len_response = len(api_response)\n",
    "\n",
    "    for i in range(len_response):\n",
    "\n",
    "        if response.status_code == 200:\n",
    "            api_response_2 = json.loads(response.content)['tracks']\n",
    "\n",
    "            dict = {\n",
    "                'id' : api_response_2[i]['id'],\n",
    "                'band' : api_response_2[i]['album']['artists'][0]['name'],\n",
    "                'song_name' : api_response_2[i]['name'],\n",
    "                'popularity' : api_response_2[i]['popularity'],\n",
    "                'type' : api_response_2[i]['type'],\n",
    "                'release_date': api_response_2[i]['album']['release_date'],\n",
    "                'album_name': api_response_2[i]['album']['name'],\n",
    "                'total_tracks': api_response_2[i]['album']['total_tracks']\n",
    "            }\n",
    "            lista.append(dict)\n",
    "        else:\n",
    "            print('request error: ', response.status_code)\n",
    "            break\n",
    "\n",
    "df =  spark.createDataFrame(lista)"
   ]
  },
  {
   "cell_type": "code",
   "execution_count": null,
   "metadata": {},
   "outputs": [],
   "source": [
    "# some data treatment\n",
    "from pyspark.sql.functions import col, trim\n",
    "\n",
    "df_trim = df.withColumn('album_name', trim(col('album_name'))) \\\n",
    "            .withColumn('band', trim(col('band'))) \\\n",
    "            .withColumn('id', trim(col('id'))) \\\n",
    "            .withColumn('song_name', trim(col('song_name'))) \\\n",
    "            .withColumn('type', trim(col('type')))\n",
    "\n",
    "df_int = df_trim.withColumn('popularity', col('popularity').cast('int')) \\\n",
    "                .withColumn('total_tracks', col('total_tracks').cast('int'))\n",
    "\n",
    "df_date = df_int.withColumn('release_date', col('release_date').cast('date'))"
   ]
  },
  {
   "cell_type": "code",
   "execution_count": null,
   "metadata": {},
   "outputs": [],
   "source": [
    "# add load date\n",
    "from pyspark.sql.functions import lit\n",
    "from datetime import datetime\n",
    "import pytz\n",
    "\n",
    "date_time = pytz.timezone(\"Brazil/East\")\n",
    "\n",
    "load_date = datetime.now(date_time).strftime('%Y-%m-%d %H:%M:%S')\n",
    "\n",
    "print(load_date)\n",
    "\n",
    "df_load_date = df_date.withColumn(\"load_date\", lit(load_date))\n",
    "\n",
    "display(df_load_date)"
   ]
  },
  {
   "cell_type": "code",
   "execution_count": null,
   "metadata": {},
   "outputs": [],
   "source": [
    "# save as delta\n",
    "save_path = 'dbfs:/FileStore/tables/datalake/delta/spotify.delta'\n",
    "\n",
    "df_load_date.write\\\n",
    "    .format('delta')\\\n",
    "    .mode('overwrite')\\\n",
    "    .save(save_path)\n"
   ]
  },
  {
   "cell_type": "code",
   "execution_count": null,
   "metadata": {},
   "outputs": [],
   "source": [
    "%sql\n",
    "-- create table in the metastore\n",
    "create table if not exists default.spotify (\n",
    "  album_name string,\n",
    "  band string,\n",
    "  id string,\n",
    "  popularity integer,\n",
    "  release_date date,\n",
    "  song_name string,\n",
    "  total_tracks integer,\n",
    "  type string,\n",
    "  load_date string\n",
    ") using delta location 'dbfs:/FileStore/tables/datalake/delta/spotify.delta'"
   ]
  },
  {
   "cell_type": "code",
   "execution_count": null,
   "metadata": {},
   "outputs": [],
   "source": [
    "# save table in the azure sql\n",
    "try:\n",
    "    columns = \"album_name varchar(40)\\\n",
    "    , band varchar(30)\\\n",
    "    , id varchar(25)\\\n",
    "    , popularity int\\\n",
    "    , release_date date\\\n",
    "    , song_name varchar(65)\\\n",
    "    , total_tracks int\\\n",
    "    , type varchar(6)\\\n",
    "    , load_date varchar(20)\"\n",
    "\n",
    "    insert_sql_table(df_load_date, 'Sales.spotify_top', columns)\n",
    "\n",
    "    print('table inserted in azure sql')\n",
    "except Exception as e:\n",
    "    if 'com.microsoft.sqlserver.jdbc.SQLServerException' in str(e):\n",
    "        print(e)\n",
    "        pass\n",
    "    else:\n",
    "        raise\n",
    "        pass"
   ]
  },
  {
   "cell_type": "code",
   "execution_count": null,
   "metadata": {},
   "outputs": [],
   "source": [
    "# update the created table in metastore\n",
    "from delta.tables import *\n",
    "\n",
    "load_delta = DeltaTable.forPath(spark, 'dbfs:/FileStore/tables/datalake/delta/spotify.delta')\n",
    "\n",
    "load_delta.alias(\"load_delta\").merge(df_load_date.alias(\"df_load_date\"), \\\n",
    "    \"load_delta.id = df_load_date.id\") \\\n",
    "    .whenMatchedUpdate(set = \n",
    "        {\n",
    "            \"album_name\": \"df_load_date.album_name\", \n",
    "            \"band\": \"df_load_date.band\",\n",
    "            \"popularity\": \"df_load_date.popularity\", \n",
    "            \"release_date\": \"df_load_date.release_date\", \n",
    "            \"song_name\": \"df_load_date.song_name\", \n",
    "            \"total_tracks\": \"df_load_date.total_tracks\", \n",
    "            \"type\": \"df_load_date.type\"\n",
    "        }) \\\n",
    "    .whenNotMatchedInsertAll() \\\n",
    "    .execute()"
   ]
  }
 ],
 "metadata": {
  "language_info": {
   "name": "python"
  }
 },
 "nbformat": 4,
 "nbformat_minor": 2
}
